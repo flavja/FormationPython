{
 "cells": [
  {
   "cell_type": "code",
   "execution_count": 37,
   "metadata": {},
   "outputs": [
    {
     "data": {
      "text/plain": [
       "'la solde du compte bancaire de Duchmol est de 950'"
      ]
     },
     "execution_count": 37,
     "metadata": {},
     "output_type": "execute_result"
    }
   ],
   "source": [
    "class CompteBancaire:\n",
    "    def __init__(self, nom = 'dupont', solde = 1000):\n",
    "        self._nom = nom\n",
    "        self._solde = solde\n",
    "    \n",
    "    def depot(self, v):\n",
    "        self._solde += v\n",
    "\n",
    "    def retrait(self, v):\n",
    "        self._solde -= v\n",
    "        \n",
    "    def affiche(self):\n",
    "        return 'la solde du compte bancaire de ' + str(self._nom) + ' est de ' + str(self._solde)\n",
    "        \n",
    "        \n",
    "compte1 = CompteBancaire('Duchmol', 800)\n",
    "compte1.depot(350)\n",
    "compte1.retrait(200)\n",
    "compte1.affiche()"
   ]
  },
  {
   "cell_type": "code",
   "execution_count": 38,
   "metadata": {},
   "outputs": [
    {
     "data": {
      "text/plain": [
       "'la solde du compte bancaire de dupont est de 1025'"
      ]
     },
     "execution_count": 38,
     "metadata": {},
     "output_type": "execute_result"
    }
   ],
   "source": [
    "compte2 = CompteBancaire()\n",
    "compte2.depot(25)\n",
    "compte2.affiche()"
   ]
  },
  {
   "cell_type": "code",
   "execution_count": 27,
   "metadata": {},
   "outputs": [
    {
     "data": {
      "text/plain": [
       "'P(2,3)'"
      ]
     },
     "execution_count": 27,
     "metadata": {},
     "output_type": "execute_result"
    }
   ],
   "source": [
    "class Point:\n",
    "    def __init__(self, x, y, z = None):\n",
    "        self.x = x\n",
    "        self.y = y\n",
    "        self.z = z\n",
    "    def ToString(self):\n",
    "        if not self.z:\n",
    "            return \"P(\" + str(self.x) + \",\" + str(self.y) + \")\"\n",
    "        else:\n",
    "            return \"P(\" + str(self.x) + \",\" + str(self.y)+ \",\" + str(self.z) + \")\"\n",
    "        \n",
    "        \n",
    "        \n",
    "P1=Point(2,3)\n",
    "P1.ToString()"
   ]
  },
  {
   "cell_type": "code",
   "execution_count": 36,
   "metadata": {},
   "outputs": [
    {
     "data": {
      "text/plain": [
       "'P(1,-5,6)'"
      ]
     },
     "execution_count": 36,
     "metadata": {},
     "output_type": "execute_result"
    }
   ],
   "source": [
    "P2=Point(1,-5,6)\n",
    "P2.ToString()"
   ]
  },
  {
   "cell_type": "code",
   "execution_count": 80,
   "metadata": {},
   "outputs": [
    {
     "name": "stdout",
     "output_type": "stream",
     "text": [
      "('Nom: ', 'Jarry', ' Prenom: ', 'Flavien', ' Date de naissance: ', '2 / 9 / 1996')\n",
      "('Nom: ', 'Jarry', ' Prenom: ', 'Flavien', ' Date de naissance: ', '2 / 9 / 1996')\n",
      "('Salaire: ', 1500)\n",
      "('Nom: ', 'Ilyass', ' Prenom: ', 'Math', ' Date de naissance: ', '1 / 7 / 1988')\n",
      "('Salaire: ', 7865.548)\n",
      "('Service: ', 'Ressource humaine')\n"
     ]
    }
   ],
   "source": [
    "\n",
    "class DateNaissance:\n",
    "    def __init__(self, jour, mois, annee):\n",
    "        self.jour = jour\n",
    "        self.mois = mois\n",
    "        self.annee = annee\n",
    "    def ToString(self):\n",
    "        return str(self.jour) + \" / \" +str(self.mois) + \" / \" + str(self.annee)\n",
    "\n",
    "class Personne:\n",
    "    def __init__(self, nom, prenom, DateNaissance):\n",
    "        self.nom = nom\n",
    "        self.prenom = prenom\n",
    "        self.ddn = DateNaissance.ToString()\n",
    "    def afficher(self):\n",
    "        print(\"Nom: \", self.nom, \" Prenom: \", self.prenom, \" Date de naissance: \", self.ddn)\n",
    "        \n",
    "class Employe(Personne):\n",
    "    def __init__(self, nom, prenom, DateNaissance, salaire):\n",
    "        Personne.__init__(self, nom, prenom, DateNaissance)\n",
    "        self.salaire = salaire\n",
    "    def afficher(self):\n",
    "        Personne.afficher(self)\n",
    "        print(\"Salaire: \", self.salaire)\n",
    "\n",
    "class Chef(Employe):\n",
    "    def __init__(self, nom, prenom, DateNaissance, salaire, service):\n",
    "        Employe.__init__(self, nom, prenom, DateNaissance, salaire)\n",
    "        self.service = service\n",
    "    def afficher(self):\n",
    "        Employe.afficher(self)\n",
    "        print(\"Service: \", self.service)\n",
    "        \n",
    "\n",
    "\n",
    "p = Personne(\"Jarry\", \"Flavien\", DateNaissance(2,9,1996))\n",
    "p.afficher()  \n",
    "\n",
    "e = Employe(\"Jarry\", \"Flavien\", DateNaissance(2,9,1996), 1500)\n",
    "e.afficher()\n",
    "\n",
    "Ch=Chef(\"Ilyass\", \"Math\" ,DateNaissance(1,7,1988),7865.548,\"Ressource humaine\")\n",
    "Ch.afficher()"
   ]
  },
  {
   "cell_type": "code",
   "execution_count": null,
   "metadata": {},
   "outputs": [],
   "source": []
  },
  {
   "cell_type": "code",
   "execution_count": null,
   "metadata": {},
   "outputs": [],
   "source": []
  }
 ],
 "metadata": {
  "kernelspec": {
   "display_name": "Python 2",
   "language": "python",
   "name": "python2"
  },
  "language_info": {
   "codemirror_mode": {
    "name": "ipython",
    "version": 2
   },
   "file_extension": ".py",
   "mimetype": "text/x-python",
   "name": "python",
   "nbconvert_exporter": "python",
   "pygments_lexer": "ipython2",
   "version": "2.7.17"
  }
 },
 "nbformat": 4,
 "nbformat_minor": 2
}
