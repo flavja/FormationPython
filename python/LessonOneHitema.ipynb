{
 "cells": [
  {
   "cell_type": "code",
   "execution_count": 37,
   "metadata": {},
   "outputs": [
    {
     "data": {
      "text/plain": [
       "'la solde du compte bancaire de Duchmol est de 950'"
      ]
     },
     "execution_count": 37,
     "metadata": {},
     "output_type": "execute_result"
    }
   ],
   "source": [
    "class CompteBancaire:\n",
    "    def __init__(self, nom = 'dupont', solde = 1000):\n",
    "        self._nom = nom\n",
    "        self._solde = solde\n",
    "    \n",
    "    def depot(self, v):\n",
    "        self._solde += v\n",
    "\n",
    "    def retrait(self, v):\n",
    "        self._solde -= v\n",
    "        \n",
    "    def affiche(self):\n",
    "        return 'la solde du compte bancaire de ' + str(self._nom) + ' est de ' + str(self._solde)\n",
    "        \n",
    "        \n",
    "compte1 = CompteBancaire('Duchmol', 800)\n",
    "compte1.depot(350)\n",
    "compte1.retrait(200)\n",
    "compte1.affiche()"
   ]
  },
  {
   "cell_type": "code",
   "execution_count": 38,
   "metadata": {},
   "outputs": [
    {
     "data": {
      "text/plain": [
       "'la solde du compte bancaire de dupont est de 1025'"
      ]
     },
     "execution_count": 38,
     "metadata": {},
     "output_type": "execute_result"
    }
   ],
   "source": [
    "compte2 = CompteBancaire()\n",
    "compte2.depot(25)\n",
    "compte2.affiche()"
   ]
  },
  {
   "cell_type": "code",
   "execution_count": 27,
   "metadata": {},
   "outputs": [
    {
     "data": {
      "text/plain": [
       "'P(2,3)'"
      ]
     },
     "execution_count": 27,
     "metadata": {},
     "output_type": "execute_result"
    }
   ],
   "source": [
    "class Point:\n",
    "    def __init__(self, x, y, z = None):\n",
    "        self.x = x\n",
    "        self.y = y\n",
    "        self.z = z\n",
    "    def ToString(self):\n",
    "        if not self.z:\n",
    "            return \"P(\" + str(self.x) + \",\" + str(self.y) + \")\"\n",
    "        else:\n",
    "            return \"P(\" + str(self.x) + \",\" + str(self.y)+ \",\" + str(self.z) + \")\"\n",
    "        \n",
    "        \n",
    "        \n",
    "P1=Point(2,3)\n",
    "P1.ToString()"
   ]
  },
  {
   "cell_type": "code",
   "execution_count": 36,
   "metadata": {},
   "outputs": [
    {
     "data": {
      "text/plain": [
       "'P(1,-5,6)'"
      ]
     },
     "execution_count": 36,
     "metadata": {},
     "output_type": "execute_result"
    }
   ],
   "source": [
    "P2=Point(1,-5,6)\n",
    "P2.ToString()"
   ]
  },
  {
   "cell_type": "code",
   "execution_count": null,
   "metadata": {},
   "outputs": [],
   "source": []
  }
 ],
 "metadata": {
  "kernelspec": {
   "display_name": "Python 2",
   "language": "python",
   "name": "python2"
  },
  "language_info": {
   "codemirror_mode": {
    "name": "ipython",
    "version": 2
   },
   "file_extension": ".py",
   "mimetype": "text/x-python",
   "name": "python",
   "nbconvert_exporter": "python",
   "pygments_lexer": "ipython2",
   "version": "2.7.17"
  }
 },
 "nbformat": 4,
 "nbformat_minor": 2
}
